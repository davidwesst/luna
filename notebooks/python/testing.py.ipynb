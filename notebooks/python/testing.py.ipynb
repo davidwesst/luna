{
 "cells": [
  {
   "cell_type": "markdown",
   "metadata": {},
   "source": [
    "Following [Langchain Python Quickstart](https://python.langchain.com/docs/get_started/quickstart)"
   ]
  },
  {
   "cell_type": "code",
   "execution_count": null,
   "metadata": {},
   "outputs": [],
   "source": [
    "%set_env OPENAI_API_KEY=..."
   ]
  },
  {
   "cell_type": "code",
   "execution_count": 17,
   "metadata": {},
   "outputs": [],
   "source": [
    "from langchain.llms import OpenAI\n",
    "from langchain.chat_models import ChatOpenAI\n",
    "\n",
    "# Initialize configuration objects\n",
    "llm = OpenAI()\n",
    "chat_model = ChatOpenAI()"
   ]
  },
  {
   "cell_type": "code",
   "execution_count": 28,
   "metadata": {},
   "outputs": [
    {
     "name": "stdout",
     "output_type": "stream",
     "text": [
      "LLM Result: \n",
      "'\\n\\nMeowbot.'\n",
      "Chat Model Result: \n",
      "'ChatCat'\n"
     ]
    }
   ],
   "source": [
    "# Try the predict method\n",
    "text = \"Name for a talking cat AI?\"\n",
    "\n",
    "result_llm = llm.predict(text) \n",
    "print(\"LLM Result: \\n% s\" % repr(result_llm)) # repr adds single quotes and enables printing of raw string\n",
    "\n",
    "result_chat_model = chat_model.predict(text)\n",
    "print(\"Chat Model Result: \\n% s\" % repr(result_chat_model))"
   ]
  },
  {
   "cell_type": "code",
   "execution_count": 26,
   "metadata": {},
   "outputs": [
    {
     "name": "stdout",
     "output_type": "stream",
     "text": [
      "LLM Result: \n",
      " content='\\n\\nAnswer: Purr-fect AI.' additional_kwargs={} example=False\n",
      "Chat Model Result: \n",
      " content='WhiskerBot' additional_kwargs={} example=False\n"
     ]
    }
   ],
   "source": [
    "from langchain.schema import HumanMessage\n",
    "\n",
    "# Try predict_messages\n",
    "text = \"What is a good name for a talking cat AI?\"\n",
    "messages = [HumanMessage(content=text)]\n",
    "\n",
    "result_llm = llm.predict_messages(messages)\n",
    "print(\"LLM Result: \\n % s\" % result_llm)\n",
    "\n",
    "result_chat_model = chat_model.predict_messages(messages)\n",
    "print(\"Chat Model Result: \\n % s\" % result_chat_model)\n"
   ]
  }
 ],
 "metadata": {
  "kernelspec": {
   "display_name": "Python 3",
   "language": "python",
   "name": "python3"
  },
  "language_info": {
   "codemirror_mode": {
    "name": "ipython",
    "version": 3
   },
   "file_extension": ".py",
   "mimetype": "text/x-python",
   "name": "python",
   "nbconvert_exporter": "python",
   "pygments_lexer": "ipython3",
   "version": "3.11.4"
  },
  "orig_nbformat": 4
 },
 "nbformat": 4,
 "nbformat_minor": 2
}
