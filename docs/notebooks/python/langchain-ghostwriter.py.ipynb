{
 "cells": [
  {
   "cell_type": "markdown",
   "metadata": {},
   "source": [
    "# Prompts\n",
    "Examples working to better understand prompts in langchain. Reference: [Prompts](https://python.langchain.com/docs/modules/model_io/prompts/)"
   ]
  },
  {
   "cell_type": "code",
   "execution_count": 5,
   "metadata": {},
   "outputs": [],
   "source": [
    "# VSCode will prompt for API Key\n",
    "openai_api_key = input(\"Enter OpenAI API key: \")"
   ]
  },
  {
   "cell_type": "markdown",
   "metadata": {},
   "source": [
    "## Prompt Template\n",
    "Building off of the examples given in the quick start. This example has multiple inputs and does not use an output parser."
   ]
  },
  {
   "cell_type": "code",
   "execution_count": 6,
   "metadata": {},
   "outputs": [],
   "source": [
    "from langchain.chat_models import ChatOpenAI\n",
    "from langchain.prompts.chat import (\n",
    "    ChatPromptTemplate,\n",
    "    SystemMessagePromptTemplate,\n",
    "    HumanMessagePromptTemplate,\n",
    "    AIMessagePromptTemplate\n",
    ")\n",
    "from langchain.prompts import (\n",
    "    PromptTemplate\n",
    ")\n",
    "from langchain.chains import LLMChain\n",
    "\n",
    "# setup the chat model\n",
    "chat_model = ChatOpenAI(openai_api_key=openai_api_key)"
   ]
  },
  {
   "cell_type": "markdown",
   "metadata": {},
   "source": [
    "### Ghostwriter"
   ]
  },
  {
   "cell_type": "markdown",
   "metadata": {},
   "source": [
    "Ghostwriter needs multiple prompts that can be chained together:\n",
    "- Write a blog post, in the first person, based on a description by the user. Include markdown image placeholders with descriptions of what the image should be.\n",
    "- Write a concluding paragraph with the heading \"Conclusion / TL;DR;\" that has two sentences that summarize the article and a bullet point list with the main takeaways from the article.\n",
    "- Write YAML front matter for the article"
   ]
  },
  {
   "cell_type": "code",
   "execution_count": 18,
   "metadata": {},
   "outputs": [
    {
     "data": {
      "text/plain": [
       "'\\noutput = chain.run(\\n    article_summary=\"I started a new podcast in July 2023 called \"Remember the Human\" which is an AI podcast about change it brings to the day-to-day lives of people. I started it because I wanted to hear stories about the impact AI has, rather than the technology itself, as media tends to focus on the change AI could bring, rather than report on the changes it has already brought. The podcast is available on YouTube, Spotify, and Apple Podcasts and you can join the conversation on the LinkedIn page or the official subreddit /r/rememberthehuman.\",\\n    style=\"Casual, as though you are having a conversation with a friend over coffee.\"\\n)\\nprint(output)\\n'"
      ]
     },
     "execution_count": 18,
     "metadata": {},
     "output_type": "execute_result"
    }
   ],
   "source": [
    "ghostwriter_template = \"\"\"You are a ghostwriter that helps technical bloggers write full-length markdown blog posts.\n",
    "A user will give you an {article_summary} and {style} in which to write the article. Write a full length blog post based on the summary provided and include image placeholders with description of a sample image that should go in that placeholder.\n",
    "The first line should be the title of the article.\n",
    "The opening sentence should be: Hello friendos, it's DW.\n",
    "The closing paragraph should have the heading \\\"Conclusion \\\\ TL;DR;\\\" and have a one or two sentence summary of the post, and include bullet points with the key takeaways.\n",
    "The last line should be: Thanks for playing. \n",
    "\"\"\"\n",
    "ghostwriter_prompt = SystemMessagePromptTemplate.from_template(ghostwriter_template)\n",
    "\n",
    "# setup the chat model\n",
    "chat_model = ChatOpenAI(openai_api_key=openai_api_key, model=\"gpt-4\")\n",
    "\n",
    "# setup ghostwriter prompt\n",
    "ghostwriter_chat_prompt = ChatPromptTemplate.from_messages([ghostwriter_prompt])\n",
    "ghostwriter_chain = LLMChain(\n",
    "    llm=chat_model,\n",
    "    prompt=ghostwriter_chat_prompt,\n",
    "    output_key=\"article\"\n",
    ")\n",
    "\n",
    "'''\n",
    "output = chain.run(\n",
    "    article_summary=\"I started a new podcast in July 2023 called \\\"Remember the Human\\\" which is an AI podcast about change it brings to the day-to-day lives of people. I started it because I wanted to hear stories about the impact AI has, rather than the technology itself, as media tends to focus on the change AI could bring, rather than report on the changes it has already brought. The podcast is available on YouTube, Spotify, and Apple Podcasts and you can join the conversation on the LinkedIn page or the official subreddit /r/rememberthehuman.\",\n",
    "    style=\"Casual, as though you are having a conversation with a friend over coffee.\"\n",
    ")\n",
    "print(output)\n",
    "'''"
   ]
  },
  {
   "cell_type": "code",
   "execution_count": 21,
   "metadata": {},
   "outputs": [],
   "source": [
    "# setup front matter prompt\n",
    "frontmatter_template = \"\"\"You are a copywriter assistant that writes YAML front matter for markdown articles.\n",
    "You will receive an {article} from a user, and you will create the YAML front matter for the article with the following properties: title, description, tags (list)\n",
    "First line should be: ---\n",
    "Last line should be: ---\n",
    "\"\"\"\n",
    "frontmatter_prompt = SystemMessagePromptTemplate.from_template(frontmatter_template)\n",
    "frontmatter_chat_prompt = ChatPromptTemplate.from_messages([frontmatter_prompt])\n",
    "frontmatter_chain = LLMChain(\n",
    "    llm=chat_model,\n",
    "    prompt=frontmatter_chat_prompt,\n",
    "    output_key=\"frontmatter\"\n",
    ")"
   ]
  },
  {
   "cell_type": "code",
   "execution_count": 27,
   "metadata": {},
   "outputs": [
    {
     "name": "stdout",
     "output_type": "stream",
     "text": [
      "---\n",
      "title: \"My Journey to Starting an AI Podcast: 'Remember the Human'\"\n",
      "description: \"In this article, the author describes the journey of starting an AI-centric podcast called 'Remember the Human.' The podcast discusses the current impact of AI on our lives, showcasing stories from experts, innovators, and everyday people.\"\n",
      "tags: [\"AI\", \"Podcast\", \"Technology\", \"Impact\", \"Innovation\"]\n",
      "---\n",
      "# My Journey to Starting an AI Podcast: \"Remember the Human\"\n",
      "\n",
      "Hello friendos, it's DW. Sip your coffee, and let's talk about something cool I started: a podcast called \"Remember the Human.\" It's all about the impact of Artificial Intelligence on our everyday lives. \n",
      "\n",
      "![Placeholder: A logo of the podcast \"Remember the Human\" featuring a stylized human and AI motif]\n",
      "\n",
      "I kicked off this podcast in July 2023 because I wanted to hear and share stories about the impact AI has on us. Not the sci-fi, futuristic, robots-taking-over-the-world kind of stories, but real, tangible ones that show how AI is already changing the way we live, work, and play. \n",
      "\n",
      "You know, media tends to focus on the potential change AI could bring. They love to paint a picture of a future where AI is either our best friend or worst enemy. But I think we are missing the point. AI is already here, and it's subtly reshaping our world in ways we might not even realize.\n",
      "\n",
      "![Placeholder: A collage of news headlines about AI, focusing on the potential future impact]\n",
      "\n",
      "That's why I started \"Remember the Human.\" This podcast is a platform for those unheard stories, the ones about how AI is currently impacting our day-to-day lives. And let me tell you, the stories are as varied as they are fascinating. From AI helping farmers increase their crop yields to AI-powered tools that make remote learning more interactive for students, the impact is real and happening right now.\n",
      "\n",
      "The best part? You can join the conversation, too. \"Remember the Human\" is available on YouTube, Spotify, and Apple Podcasts. You can also engage with us on our LinkedIn page or the official subreddit /r/rememberthehuman. \n",
      "\n",
      "![Placeholder: Screenshots of \"Remember the Human\" on YouTube, Spotify, and Apple Podcasts.]\n",
      "\n",
      "Each episode, we dive into a different story, exploring how AI is changing the way we live, one innovation at a time. We chat with experts, innovators, and everyday people who share their experiences with AI. It's like having a coffee chat with a friend, except that friend might be an AI-powered chatbot.\n",
      "\n",
      "![Placeholder: A cartoon drawing of two friends chatting over coffee, with a chatbot symbol superimposed.]\n",
      "\n",
      "## Conclusion \\ TL;DR;\n",
      "\n",
      "So there you have it, friendos. I started the AI podcast \"Remember the Human\" to focus on the present impact of AI, rather than its future potential. It's all about exploring how AI is subtly (and not-so-subtly) changing our everyday lives.\n",
      "\n",
      "* \"Remember the Human\" is a podcast about the current impact of AI on our lives.\n",
      "* It's available on YouTube, Spotify, Apple Podcasts, LinkedIn, and Reddit.\n",
      "* Each episode explores a new story of AI's impact, featuring conversations with experts, innovators, and everyday people.\n",
      "\n",
      "Thanks for playing.\n",
      "\n"
     ]
    }
   ],
   "source": [
    "from langchain.chains import (\n",
    "    SequentialChain\n",
    ")\n",
    "overall_chain = SequentialChain(\n",
    "    chains=[ghostwriter_chain, frontmatter_chain],\n",
    "    input_variables=[\"article_summary\", \"style\"],\n",
    "    output_variables=[\"article\", \"frontmatter\"],\n",
    "    verbose=False\n",
    ")\n",
    "output = overall_chain({\n",
    "    \"article_summary\":\"I started a new podcast in July 2023 called \\\"Remember the Human\\\" which is an AI podcast about change it brings to the day-to-day lives of people. I started it because I wanted to hear stories about the impact AI has, rather than the technology itself, as media tends to focus on the change AI could bring, rather than report on the changes it has already brought. The podcast is available on YouTube, Spotify, and Apple Podcasts and you can join the conversation on the LinkedIn page or the official subreddit /r/rememberthehuman.\",\n",
    "    \"style\":\"Casual, as though you are having a conversation with a friend over coffee.\"\n",
    "})\n",
    "\n",
    "print(output['frontmatter'])\n",
    "print(output['article'])"
   ]
  }
 ],
 "metadata": {
  "kernelspec": {
   "display_name": "Python 3",
   "language": "python",
   "name": "python3"
  },
  "language_info": {
   "codemirror_mode": {
    "name": "ipython",
    "version": 3
   },
   "file_extension": ".py",
   "mimetype": "text/x-python",
   "name": "python",
   "nbconvert_exporter": "python",
   "pygments_lexer": "ipython3",
   "version": "3.11.4"
  },
  "orig_nbformat": 4
 },
 "nbformat": 4,
 "nbformat_minor": 2
}
